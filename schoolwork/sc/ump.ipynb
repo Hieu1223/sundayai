{
 "cells": [
  {
   "cell_type": "code",
   "execution_count": 3,
   "id": "1db01e0c",
   "metadata": {},
   "outputs": [],
   "source": [
    "import numpy as np\n",
    "import torch\n",
    "from torch import Tensor\n",
    "from torch import tensor\n",
    "from torch import nn\n",
    "from matplotlib import pyplot as plt\n",
    "import matplotlib as mpl"
   ]
  },
  {
   "cell_type": "code",
   "execution_count": 2,
   "id": "645c8c1c",
   "metadata": {},
   "outputs": [
    {
     "data": {
      "text/plain": [
       "<torch._C.Generator at 0x1b2a7bab1f0>"
      ]
     },
     "execution_count": 2,
     "metadata": {},
     "output_type": "execute_result"
    }
   ],
   "source": [
    "torch.manual_seed(1234)"
   ]
  },
  {
   "cell_type": "code",
   "execution_count": 4,
   "id": "ea2a5a72",
   "metadata": {},
   "outputs": [],
   "source": [
    "class XORNet(nn.Module):\n",
    "    def __init__(self):\n",
    "        super().__init__()\n",
    "        self.layer = nn.Linear(2,1,bias=False,dtype=float)\n",
    "    def forward(self,x):\n",
    "        x= self.layer(x)\n",
    "        return torch.abs(x)\n",
    "    def set_weight(self, w):\n",
    "        with torch.no_grad():\n",
    "            self.layer.weight.copy_(w.unsqueeze(0))\n"
   ]
  },
  {
   "cell_type": "code",
   "execution_count": 73,
   "id": "2ddc8ec0",
   "metadata": {},
   "outputs": [],
   "source": [
    "data = torch.tensor([[0,0],[0,1],[1,0],[1,1]],dtype=float)\n",
    "label = torch.tensor([[0],[1],[1],[0]],dtype=float)\n",
    "loss_fn = nn.MSELoss()\n",
    "epochs = 5000\n",
    "epsilon = 0.0001"
   ]
  },
  {
   "cell_type": "code",
   "execution_count": 41,
   "id": "7d62b42b",
   "metadata": {},
   "outputs": [],
   "source": [
    "def train_with_trajectory(net, optim,t,epsilon,start_tensor):\n",
    "    net = XORNet()\n",
    "    optim = torch.optim.SGD(net.parameters())\n",
    "    optim.zero_grad()\n",
    "    trajectory = []\n",
    "    with torch.no_grad():\n",
    "        net.set_weight(start_tensor)\n",
    "    for i in range(t):\n",
    "        pos = []\n",
    "        pos.append(net.layer.weight[0][0].item())\n",
    "        pos.append(net.layer.weight[0][1].item())\n",
    "        pred = net(data)\n",
    "        loss = loss_fn(pred,label)\n",
    "        pos.append(loss.mean().item())\n",
    "        optim.zero_grad()\n",
    "        loss.backward()\n",
    "        optim.step()\n",
    "        trajectory.append(pos)\n",
    "        if(loss.item() < epsilon):\n",
    "            break\n",
    "    return trajectory\n",
    "        "
   ]
  },
  {
   "cell_type": "code",
   "execution_count": 2,
   "id": "2ed91d43",
   "metadata": {},
   "outputs": [
    {
     "ename": "NameError",
     "evalue": "name 'torch' is not defined",
     "output_type": "error",
     "traceback": [
      "\u001b[31m---------------------------------------------------------------------------\u001b[39m",
      "\u001b[31mNameError\u001b[39m                                 Traceback (most recent call last)",
      "\u001b[36mCell\u001b[39m\u001b[36m \u001b[39m\u001b[32mIn[2]\u001b[39m\u001b[32m, line 2\u001b[39m\n\u001b[32m      1\u001b[39m width = \u001b[32m10\u001b[39m\n\u001b[32m----> \u001b[39m\u001b[32m2\u001b[39m grid = \u001b[43mtorch\u001b[49m.linspace(-\u001b[32m1\u001b[39m, \u001b[32m1\u001b[39m, width)\n\u001b[32m      3\u001b[39m img = torch.zeros((width, width))\n\u001b[32m      5\u001b[39m \u001b[38;5;28;01mwith\u001b[39;00m torch.no_grad():\n",
      "\u001b[31mNameError\u001b[39m: name 'torch' is not defined"
     ]
    }
   ],
   "source": [
    "width = 10\n",
    "grid = torch.linspace(-1, 1, width)\n",
    "img = torch.zeros((width, width))\n",
    "\n",
    "with torch.no_grad():\n",
    "    for i in range(width):\n",
    "        for j in range(width):\n",
    "            net = XORNet()\n",
    "            net.set_weight(torch.tensor([grid[i],grid[j]]))\n",
    "            pred = net(data)\n",
    "            loss = loss_fn(data,label)\n",
    "            img[i, j] = loss.mean().item()\n",
    "[i.set_linewidth(0.1) for i in ax.spines.itervalues()]\n",
    "plt.imshow(img.detach(), cmap='gray')\n",
    "plt.axis('off')  # hides axis and border\n",
    "plt.show()\n"
   ]
  },
  {
   "cell_type": "code",
   "execution_count": 64,
   "id": "f1080f5a",
   "metadata": {},
   "outputs": [
    {
     "name": "stdout",
     "output_type": "stream",
     "text": [
      "tensor(0.)\n"
     ]
    }
   ],
   "source": [
    "net.set_weight(torch.tensor([-1,1]))\n",
    "pred = net(data)\n",
    "loss = loss_fn(pred,label)\n",
    "print(img[99,99])"
   ]
  },
  {
   "cell_type": "code",
   "execution_count": 87,
   "id": "cbe10571",
   "metadata": {},
   "outputs": [],
   "source": [
    "resolution = 10"
   ]
  },
  {
   "cell_type": "code",
   "execution_count": 82,
   "id": "7ad7db84",
   "metadata": {},
   "outputs": [],
   "source": [
    "import json\n",
    "def save(name,trajectories):\n",
    "    with open(name, \"w\") as f:\n",
    "        json.dump(trajectories, f)\n",
    "        f.close()"
   ]
  },
  {
   "cell_type": "markdown",
   "id": "dabc3265",
   "metadata": {},
   "source": [
    "SGD"
   ]
  },
  {
   "cell_type": "code",
   "execution_count": 88,
   "id": "e88bc332",
   "metadata": {},
   "outputs": [],
   "source": [
    "net = XORNet()\n",
    "trajectories = []\n",
    "for i in torch.linspace(-1,1,resolution):\n",
    "    for j in torch.linspace(-1,1,resolution):\n",
    "        optim = torch.optim.SGD(net.parameters())\n",
    "        optim.zero_grad()\n",
    "        trajectory =  train_with_trajectory(net, optim, epochs,epsilon,torch.tensor([i , j]))\n",
    "        trajectories.append(trajectory)\n",
    "save(\"sgd\",trajectories)"
   ]
  },
  {
   "cell_type": "markdown",
   "id": "92b247db",
   "metadata": {},
   "source": [
    "SGD+ Momentum"
   ]
  },
  {
   "cell_type": "code",
   "execution_count": 89,
   "id": "efaee48e",
   "metadata": {},
   "outputs": [],
   "source": [
    "net = XORNet()\n",
    "trajectories = []\n",
    "for i in torch.linspace(-1,1,resolution):\n",
    "    for j in torch.linspace(-1,1,resolution):\n",
    "        optim = torch.optim.SGD(net.parameters(), momentum=0.9,dampening=0.01)\n",
    "\n",
    "        optim.zero_grad()\n",
    "        trajectory =  train_with_trajectory(net, optim, epochs,epsilon,torch.tensor([i , j]))\n",
    "        trajectories.append(trajectory)\n",
    "save(\"sgd_momen\",trajectories)"
   ]
  },
  {
   "cell_type": "markdown",
   "id": "923de625",
   "metadata": {},
   "source": [
    "Adagrad"
   ]
  },
  {
   "cell_type": "code",
   "execution_count": 90,
   "id": "190cc009",
   "metadata": {},
   "outputs": [],
   "source": [
    "net = XORNet()\n",
    "trajectories = []\n",
    "for i in torch.linspace(-1,1,resolution):\n",
    "    for j in torch.linspace(-1,1,resolution):\n",
    "        optim = torch.optim.Adagrad(net.parameters())\n",
    "\n",
    "        optim.zero_grad()\n",
    "        trajectory =  train_with_trajectory(net, optim, epochs,epsilon,torch.tensor([i , j]))\n",
    "        trajectories.append(trajectory)\n",
    "save(\"adagrad\",trajectories)"
   ]
  },
  {
   "cell_type": "markdown",
   "id": "6d8d63fe",
   "metadata": {},
   "source": [
    "Adam"
   ]
  },
  {
   "cell_type": "code",
   "execution_count": 1,
   "id": "23c1a4c2",
   "metadata": {},
   "outputs": [
    {
     "ename": "NameError",
     "evalue": "name 'XORNet' is not defined",
     "output_type": "error",
     "traceback": [
      "\u001b[31m---------------------------------------------------------------------------\u001b[39m",
      "\u001b[31mNameError\u001b[39m                                 Traceback (most recent call last)",
      "\u001b[36mCell\u001b[39m\u001b[36m \u001b[39m\u001b[32mIn[1]\u001b[39m\u001b[32m, line 1\u001b[39m\n\u001b[32m----> \u001b[39m\u001b[32m1\u001b[39m net = \u001b[43mXORNet\u001b[49m()\n\u001b[32m      2\u001b[39m trajectories = []\n\u001b[32m      3\u001b[39m \u001b[38;5;28;01mfor\u001b[39;00m i \u001b[38;5;129;01min\u001b[39;00m torch.linspace(-\u001b[32m1\u001b[39m,\u001b[32m1\u001b[39m,resolution):\n",
      "\u001b[31mNameError\u001b[39m: name 'XORNet' is not defined"
     ]
    }
   ],
   "source": [
    "net = XORNet()\n",
    "trajectories = []\n",
    "for i in torch.linspace(-1,1,resolution):\n",
    "    for j in torch.linspace(-1,1,resolution):\n",
    "        optim = torch.optim.Adam(net.parameters())\n",
    "\n",
    "        optim.zero_grad()\n",
    "        trajectory =  train_with_trajectory(net, optim, epochs,epsilon,torch.tensor([i , j]))\n",
    "        trajectories.append(trajectory)\n",
    "save(\"adam\",trajectories)"
   ]
  }
 ],
 "metadata": {
  "kernelspec": {
   "display_name": ".venv",
   "language": "python",
   "name": "python3"
  },
  "language_info": {
   "codemirror_mode": {
    "name": "ipython",
    "version": 3
   },
   "file_extension": ".py",
   "mimetype": "text/x-python",
   "name": "python",
   "nbconvert_exporter": "python",
   "pygments_lexer": "ipython3",
   "version": "3.13.3"
  }
 },
 "nbformat": 4,
 "nbformat_minor": 5
}
