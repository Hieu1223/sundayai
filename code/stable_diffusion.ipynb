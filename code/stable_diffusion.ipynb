{
 "cells": [
  {
   "cell_type": "code",
   "execution_count": 45,
   "id": "a747e36b",
   "metadata": {},
   "outputs": [],
   "source": [
    "import torch\n",
    "import torchvision\n",
    "import torch.nn.functional as F\n",
    "from torchvision import datasets\n",
    "from torch.utils.data import Dataset\n",
    "from torchvision.transforms import ToTensor\n",
    "from matplotlib import pyplot as plt\n",
    "import random\n",
    "import numpy as np\n",
    "import os\n",
    "import glob\n",
    "#TODO: failed\n"
   ]
  },
  {
   "cell_type": "code",
   "execution_count": 66,
   "id": "7030146c",
   "metadata": {},
   "outputs": [],
   "source": [
    "def show_img(img:torch.Tensor):\n",
    "    plt.imshow(img.permute(1,2,0))"
   ]
  },
  {
   "cell_type": "code",
   "execution_count": 77,
   "id": "35a7bbee",
   "metadata": {},
   "outputs": [],
   "source": [
    "def get_img_from_path(path:str) -> torch.Tensor:\n",
    "    size =  os.path.getsize(path)\n",
    "    byte_datas = torch.from_file(path,size=size,dtype=torch.uint8)\n",
    "    img = torchvision.io.decode_jpeg(byte_datas,torchvision.io.ImageReadMode.RGB)\n",
    "\n",
    "    img = F.interpolate(img.unsqueeze(0),(64,64))\n",
    "    img = img.squeeze(0)/255\n",
    "    return img\n"
   ]
  },
  {
   "cell_type": "code",
   "execution_count": 67,
   "id": "04ef7b84",
   "metadata": {},
   "outputs": [
    {
     "data": {
      "image/png": "[encoded data removed]",
      "text/plain": [
       "<Figure size 640x480 with 1 Axes>"
      ]
     },
     "metadata": {},
     "output_type": "display_data"
    }
   ],
   "source": [
    "filepaths = glob.glob(\"data/AnimeFace/images/*.jpg\")\n",
    "img = get_img_from_path(filepaths[0])\n",
    "torch.stack((get_img_from_path(filepaths[1]),img),0)\n",
    "show_img(img[0].unsqueeze(0))\n",
    "#img.shape,img"
   ]
  },
  {
   "cell_type": "code",
   "execution_count": 78,
   "id": "e2f1f7ac",
   "metadata": {},
   "outputs": [],
   "source": [
    "class AnimeFace(torch.utils.data.Dataset):\n",
    "    def __init__(self):\n",
    "        super().__init__()\n",
    "        filepaths = glob.glob(\"data/AnimeFace/images/*.jpg\")\n",
    "        imgs = []\n",
    "        for path in filepaths[:2000]:\n",
    "            imgs.append(get_img_from_path(path=path))\n",
    "        self.data =  torch.stack(imgs,0)\n",
    "        self.n = len(imgs)\n",
    "    def __getitem__(self, index):\n",
    "        return self.data[index]\n",
    "    def __len__(self):\n",
    "        return self.n\n",
    "    "
   ]
  },
  {
   "cell_type": "code",
   "execution_count": 89,
   "id": "918b4cd1",
   "metadata": {},
   "outputs": [],
   "source": [
    "dataset = AnimeFace()"
   ]
  },
  {
   "cell_type": "code",
   "execution_count": 74,
   "id": "972fd18a",
   "metadata": {},
   "outputs": [],
   "source": [
    "torch.manual_seed(123)\n",
    "np.random.seed(123)"
   ]
  },
  {
   "cell_type": "code",
   "execution_count": 127,
   "id": "174a4a13",
   "metadata": {},
   "outputs": [],
   "source": [
    "def linear_beta_schedule(timesteps):\n",
    "    beta_start = 1e-4\n",
    "    beta_end = 0.02\n",
    "    return torch.linspace(beta_start, beta_end, timesteps)\n",
    "\n",
    "T = 1000\n",
    "betas = linear_beta_schedule(T)\n",
    "alphas = 1.0 - betas\n",
    "alphas_cumprod = torch.cumprod(alphas, dim=0)\n",
    "sqrt_alphas_cumprod = torch.sqrt(alphas_cumprod)\n",
    "sqrt_one_minus_alphas_cumprod = torch.sqrt(1 - alphas_cumprod)\n",
    "\n",
    "def get_index_from_list(vals, t, x_shape):\n",
    "    batch_size = t.shape[0]\n",
    "    out = vals.gather(-1, t).reshape(batch_size, *((1,) * (len(x_shape) - 1)))\n",
    "    return out\n",
    "\n",
    "def forward_diffusion_sample(x_0, t, device=\"cuda\"):\n",
    "    noise = torch.randn_like(x_0)\n",
    "    sqrt_alphas = get_index_from_list(sqrt_alphas_cumprod.to(device), t, x_0.shape)\n",
    "    sqrt_one_minus_alphas = get_index_from_list(sqrt_one_minus_alphas_cumprod.to(device), t, x_0.shape)\n",
    "    return sqrt_alphas * x_0 + sqrt_one_minus_alphas * noise, noise\n"
   ]
  },
  {
   "cell_type": "code",
   "execution_count": 129,
   "id": "a9d98a2a",
   "metadata": {},
   "outputs": [],
   "source": [
    "class SinusoidalPositionEmbeddings(torch.nn.Module):\n",
    "    def __init__(self, dim):\n",
    "        super().__init__()\n",
    "        self.dim = dim\n",
    "\n",
    "    def forward(self, timestep):\n",
    "        device = timestep.device\n",
    "        half_dim = self.dim // 2\n",
    "        emb = np.log(10000) / (half_dim - 1)\n",
    "        emb = torch.exp(torch.arange(half_dim, device=device) * -emb)\n",
    "        emb = timestep[:, None] * emb[None, :]\n",
    "        emb = torch.cat((emb.sin(), emb.cos()), dim=-1)\n",
    "        return emb\n"
   ]
  },
  {
   "cell_type": "code",
   "execution_count": 135,
   "id": "15861358",
   "metadata": {},
   "outputs": [],
   "source": [
    "from torch import nn\n",
    "class Block(torch.nn.Module):\n",
    "    def __init__(self, in_ch, out_ch, time_emb_dim, up=False):\n",
    "        super().__init__()\n",
    "        self.time_mlp = nn.Linear(time_emb_dim, out_ch)\n",
    "        self.conv1 = nn.Conv2d(in_ch, out_ch, 3, padding=1)\n",
    "        self.conv2 = nn.Conv2d(out_ch, out_ch, 3, padding=1)\n",
    "        self.bnorm1 = nn.BatchNorm2d(out_ch)\n",
    "        self.bnorm2 = nn.BatchNorm2d(out_ch)\n",
    "        self.relu = nn.ReLU()\n",
    "        self.up = up\n",
    "        if up:\n",
    "            self.transform = nn.ConvTranspose2d(out_ch, out_ch, 4, 2, 1)\n",
    "        else:\n",
    "            self.transform = nn.Conv2d(out_ch, out_ch, 4, 2, 1)\n",
    "\n",
    "    def forward(self, x, t):\n",
    "        h = self.bnorm1(self.relu(self.conv1(x)))\n",
    "        time_emb = self.relu(self.time_mlp(t))[:, :, None, None]\n",
    "        h = h + time_emb\n",
    "        h = self.bnorm2(self.relu(self.conv2(h)))\n",
    "        return self.transform(h)\n",
    "\n",
    "class SimpleUnet(torch.nn.Module):\n",
    "    def __init__(self):\n",
    "        super().__init__()\n",
    "        time_dim = 256\n",
    "        self.time_embed = SinusoidalPositionEmbeddings(time_dim)\n",
    "\n",
    "        self.block1 = Block(3, 64, time_dim)\n",
    "        self.block2 = Block(64, 128, time_dim)\n",
    "        self.block3 = Block(128, 128, time_dim, up=True)\n",
    "        self.block4 = Block(128, 64, time_dim, up=True)\n",
    "        self.output = torch.nn.Conv2d(64, 3, 1)\n",
    "\n",
    "    def forward(self, x, t):\n",
    "        t = self.time_embed(t)\n",
    "        x1 = self.block1(x, t)\n",
    "        x2 = self.block2(x1, t)\n",
    "        x3 = self.block3(x2, t)\n",
    "        x4 = self.block4(x3, t)\n",
    "        return self.output(x4)\n"
   ]
  },
  {
   "cell_type": "code",
   "execution_count": 82,
   "id": "ee6c8837",
   "metadata": {},
   "outputs": [],
   "source": [
    "class VAEEncoder(torch.nn.Module):\n",
    "    def __init__(self,in_channels, latent_dim):\n",
    "        super().__init__()\n",
    "        self.encoder = torch.nn.Sequential(\n",
    "            torch.nn.Conv2d(in_channels, 64, kernel_size=4,stride= 2, padding=1),\n",
    "            torch.nn.ReLU(),\n",
    "            torch.nn.Conv2d(64,128,kernel_size=4,stride=2,padding=1),\n",
    "            torch.nn.ReLU(),\n",
    "            torch.nn.Conv2d(128,latent_dim,kernel_size=4,stride=2, padding=1)\n",
    "        )\n",
    "\n",
    "    def forward(self,x):\n",
    "        return self.encoder(x)\n",
    "    \n",
    "class VAEDecoder(torch.nn.Module):\n",
    "    def __init__(self, latent_dim,out_channels):\n",
    "        super().__init__()\n",
    "        self.decoder = torch.nn.Sequential(\n",
    "            torch.nn.ConvTranspose2d(latent_dim, 128, kernel_size=4,stride= 2, padding=1),\n",
    "            torch.nn.ReLU(),\n",
    "            torch.nn.ConvTranspose2d(128,64,kernel_size=4,stride=2,padding=1),\n",
    "            torch.nn.ReLU(),\n",
    "            torch.nn.ConvTranspose2d(64,latent_dim,kernel_size=4,stride=2, padding=1)\n",
    "        )\n",
    "\n",
    "    def forward(self,x):\n",
    "        return self.decoder(x)\n",
    "\n",
    "\n",
    "class VAE(torch.nn.Module):\n",
    "    def __init__(self,in_channels,latent_dim, out_channels):\n",
    "        super().__init__()\n",
    "        self.encoder = VAEEncoder(in_channels, latent_dim)\n",
    "        self.decoder = VAEDecoder(latent_dim, out_channels)\n",
    "    def forward(self,x):\n",
    "        latent = self.encoder(x)\n",
    "        reconstructed = self.decoder(latent)\n",
    "        return reconstructed\n",
    "    \n"
   ]
  },
  {
   "cell_type": "code",
   "execution_count": 137,
   "id": "e330136f",
   "metadata": {},
   "outputs": [],
   "source": [
    "device = \"cuda\" if torch.cuda.is_available() else \"cpu\"\n",
    "model = SimpleUnet().to(device)\n",
    "optimizer = torch.optim.Adam(model.parameters(), lr=1e-4)\n",
    "loss_fn = nn.MSELoss()\n",
    "dataset = AnimeFace()\n",
    "dataloader = torch.utils.data.DataLoader(dataset, batch_size=64, shuffle=True)\n",
    "\n",
    "epochs = 50"
   ]
  },
  {
   "cell_type": "code",
   "execution_count": null,
   "id": "f4543f60",
   "metadata": {},
   "outputs": [],
   "source": [
    "torch.save(model.state_dict()) "
   ]
  },
  {
   "cell_type": "code",
   "execution_count": 150,
   "id": "83c787c2",
   "metadata": {},
   "outputs": [
    {
     "name": "stdout",
     "output_type": "stream",
     "text": [
      "Epoch 1/50: Loss = 0.2036\n",
      "Epoch 2/50: Loss = 0.1582\n",
      "Epoch 3/50: Loss = 0.2352\n",
      "Epoch 4/50: Loss = 0.1651\n",
      "Epoch 5/50: Loss = 0.2425\n",
      "Epoch 6/50: Loss = 0.2058\n",
      "Epoch 7/50: Loss = 0.1918\n",
      "Epoch 8/50: Loss = 0.1698\n",
      "Epoch 9/50: Loss = 0.1853\n",
      "Epoch 10/50: Loss = 0.1610\n",
      "Epoch 11/50: Loss = 0.1728\n",
      "Epoch 12/50: Loss = 0.1979\n",
      "Epoch 13/50: Loss = 0.2089\n",
      "Epoch 14/50: Loss = 0.1639\n",
      "Epoch 15/50: Loss = 0.1534\n",
      "Epoch 16/50: Loss = 0.1888\n",
      "Epoch 17/50: Loss = 0.1793\n",
      "Epoch 18/50: Loss = 0.1924\n",
      "Epoch 19/50: Loss = 0.1654\n",
      "Epoch 20/50: Loss = 0.2004\n",
      "Epoch 21/50: Loss = 0.1683\n",
      "Epoch 22/50: Loss = 0.1452\n",
      "Epoch 23/50: Loss = 0.1663\n",
      "Epoch 24/50: Loss = 0.1993\n",
      "Epoch 25/50: Loss = 0.1833\n",
      "Epoch 26/50: Loss = 0.1627\n",
      "Epoch 27/50: Loss = 0.1910\n",
      "Epoch 28/50: Loss = 0.2358\n",
      "Epoch 29/50: Loss = 0.1625\n",
      "Epoch 30/50: Loss = 0.1881\n",
      "Epoch 31/50: Loss = 0.1761\n",
      "Epoch 32/50: Loss = 0.1529\n",
      "Epoch 33/50: Loss = 0.1587\n",
      "Epoch 34/50: Loss = 0.2135\n",
      "Epoch 35/50: Loss = 0.1873\n",
      "Epoch 36/50: Loss = 0.2297\n",
      "Epoch 37/50: Loss = 0.1589\n",
      "Epoch 38/50: Loss = 0.2144\n",
      "Epoch 39/50: Loss = 0.1831\n",
      "Epoch 40/50: Loss = 0.1426\n",
      "Epoch 41/50: Loss = 0.2497\n",
      "Epoch 42/50: Loss = 0.1686\n",
      "Epoch 43/50: Loss = 0.1878\n",
      "Epoch 44/50: Loss = 0.1684\n",
      "Epoch 45/50: Loss = 0.1435\n",
      "Epoch 46/50: Loss = 0.2340\n",
      "Epoch 47/50: Loss = 0.1808\n",
      "Epoch 48/50: Loss = 0.1818\n",
      "Epoch 49/50: Loss = 0.1454\n",
      "Epoch 50/50: Loss = 0.2586\n"
     ]
    }
   ],
   "source": [
    "\n",
    "\n",
    "for epoch in range(epochs):\n",
    "    for step, batch in enumerate(dataloader):\n",
    "        batch = batch.to(device)\n",
    "        t = torch.randint(0, T, (batch.size(0),), device=device).long()\n",
    "        x_t, noise = forward_diffusion_sample(batch, t, device)\n",
    "        noise_pred = model(x_t, t)\n",
    "        loss = loss_fn(noise_pred, noise)\n",
    "        optimizer.zero_grad()\n",
    "        loss.backward()\n",
    "        optimizer.step()\n",
    "\n",
    "    print(f\"Epoch {epoch+1}/{epochs}: Loss = {loss.item():.4f}\")\n"
   ]
  },
  {
   "cell_type": "code",
   "execution_count": 151,
   "id": "a6a64716",
   "metadata": {},
   "outputs": [
    {
     "name": "stderr",
     "output_type": "stream",
     "text": [
      "Clipping input data to the valid range for imshow with RGB data ([0..1] for floats or [0..255] for integers). Got range [-1.9654269..2.170187].\n"
     ]
    },
    {
     "data": {
      "image/png": "[encoded data removed]",
      "text/plain": [
       "<Figure size 640x480 with 1 Axes>"
      ]
     },
     "metadata": {},
     "output_type": "display_data"
    }
   ],
   "source": [
    "@torch.no_grad()\n",
    "def sample_timestep(x, t):\n",
    "    beta_t = get_index_from_list(betas.to(x.device), t, x.shape)\n",
    "    sqrt_one_minus_alpha_cumprod = get_index_from_list(sqrt_one_minus_alphas_cumprod.to(x.device), t, x.shape)\n",
    "    sqrt_recip_alpha = 1. / get_index_from_list(torch.sqrt(alphas.to(x.device)), t, x.shape)\n",
    "    pred_noise = model(x, t)\n",
    "    model_mean = sqrt_recip_alpha * (x - beta_t / sqrt_one_minus_alpha_cumprod * pred_noise)\n",
    "\n",
    "    if t[0] == 0:\n",
    "        return model_mean\n",
    "    noise = torch.randn_like(x)\n",
    "    return model_mean + torch.sqrt(beta_t) * noise\n",
    "\n",
    "@torch.no_grad()\n",
    "def sample_image():\n",
    "    img = torch.randn((1, 3, 64, 64), device=device)\n",
    "    for i in reversed(range(0, T)):\n",
    "        t = torch.tensor([i], device=device)\n",
    "        img = sample_timestep(img, t)\n",
    "    return img\n",
    "T =100\n",
    "sample = sample_image()\n",
    "show_img(sample[0].cpu())\n"
   ]
  }
 ],
 "metadata": {
  "kernelspec": {
   "display_name": ".venv",
   "language": "python",
   "name": "python3"
  },
  "language_info": {
   "codemirror_mode": {
    "name": "ipython",
    "version": 3
   },
   "file_extension": ".py",
   "mimetype": "text/x-python",
   "name": "python",
   "nbconvert_exporter": "python",
   "pygments_lexer": "ipython3",
   "version": "3.13.3"
  }
 },
 "nbformat": 4,
 "nbformat_minor": 5
}
