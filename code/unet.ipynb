{
 "cells": [
  {
   "cell_type": "code",
   "execution_count": 1,
   "id": "8684512d",
   "metadata": {},
   "outputs": [],
   "source": [
    "import torch\n",
    "import torchvision\n",
    "from torchvision import datasets\n",
    "from torch.utils.data import Dataset\n",
    "from torchvision.transforms import ToTensor\n",
    "from matplotlib import pyplot as plt\n",
    "import random"
   ]
  },
  {
   "cell_type": "code",
   "execution_count": 16,
   "id": "a41194eb",
   "metadata": {},
   "outputs": [],
   "source": [
    "transform = torchvision.transforms.Compose([\n",
    "    torchvision.transforms.Resize((572,572)),\n",
    "    torchvision.transforms.ToTensor()\n",
    "])\n",
    "raw_training_data = datasets.FashionMNIST(\n",
    "    root=\"data\",\n",
    "    train=True,\n",
    "    download=True,\n",
    "    transform=transform\n",
    ")\n",
    "\n",
    "raw_test_data = datasets.FashionMNIST(\n",
    "    root=\"data\",\n",
    "    train=False,\n",
    "    download=True,\n",
    "    transform=transform\n",
    ")\n",
    "labels_map = {\n",
    "    0: \"T-Shirt\",\n",
    "    1: \"Trouser\",\n",
    "    2: \"Pullover\",\n",
    "    3: \"Dress\",\n",
    "    4: \"Coat\",\n",
    "    5: \"Sandal\",\n",
    "    6: \"Shirt\",\n",
    "    7: \"Sneaker\",\n",
    "    8: \"Bag\",\n",
    "    9: \"Ankle Boot\",\n",
    "}\n"
   ]
  },
  {
   "cell_type": "code",
   "execution_count": 17,
   "id": "47867f46",
   "metadata": {},
   "outputs": [
    {
     "data": {
      "text/plain": [
       "<generator object Module.parameters at 0x0000013645DBCBA0>"
      ]
     },
     "execution_count": 17,
     "metadata": {},
     "output_type": "execute_result"
    }
   ],
   "source": [
    "class ContractBlock(torch.nn.Module):\n",
    "    def __init__(self, in_channels, out_channels):\n",
    "        super().__init__()\n",
    "        self.block = torch.nn.Sequential(\n",
    "            torch.nn.Conv2d(in_channels, out_channels, kernel_size=3, padding=1),\n",
    "            torch.nn.ReLU(),\n",
    "            torch.nn.Conv2d(out_channels, out_channels, kernel_size=3, padding=1),\n",
    "            torch.nn.ReLU(),\n",
    "            torch.nn.MaxPool2d(2, stride=2)\n",
    "        )\n",
    "\n",
    "    def forward(self, x):\n",
    "        return self.block(x)\n",
    "\n",
    "class ExpandBlock(torch.nn.Module):\n",
    "    def __init__(self, in_channels, out_channels):\n",
    "        super().__init__()\n",
    "        self.up = torch.nn.ConvTranspose2d(in_channels, out_channels, kernel_size=2, stride=2)\n",
    "        self.block = torch.nn.Sequential(\n",
    "            torch.nn.Conv2d(in_channels, out_channels, kernel_size=3, padding=1),\n",
    "            torch.nn.ReLU(),\n",
    "            torch.nn.Conv2d(out_channels, out_channels, kernel_size=3, padding=1),\n",
    "            torch.nn.ReLU()\n",
    "        )\n",
    "\n",
    "    def forward(self, x, skip):\n",
    "        x = self.up(x)\n",
    "        x = torch.cat([x, skip], dim=1)\n",
    "        return self.block(x)\n",
    "\n",
    "class UNet(torch.nn.Module):\n",
    "    def __init__(self):\n",
    "        super().__init__()\n",
    "        self.enc1 = ContractBlock(1, 64)\n",
    "        self.enc2 = ContractBlock(64, 128)\n",
    "        self.enc3 = ContractBlock(128, 256)\n",
    "        self.enc4 = ContractBlock(256, 512)\n",
    "\n",
    "        self.middle = torch.nn.Sequential(\n",
    "            torch.nn.Conv2d(512, 1024, kernel_size=3, padding=1),\n",
    "            torch.nn.ReLU(),\n",
    "            torch.nn.Conv2d(1024, 1024, kernel_size=3, padding=1),\n",
    "            torch.nn.ReLU()\n",
    "        )\n",
    "\n",
    "        self.dec4 = ExpandBlock(1024, 512)\n",
    "        self.dec3 = ExpandBlock(512, 256)\n",
    "        self.dec2 = ExpandBlock(256, 128)\n",
    "        self.dec1 = ExpandBlock(128, 64)\n",
    "\n",
    "        self.final = torch.nn.Conv2d(64, 2, kernel_size=1)\n",
    "\n",
    "    def forward(self, x):\n",
    "        s1 = self.enc1(x)\n",
    "        s2 = self.enc2(s1)\n",
    "        s3 = self.enc3(s2)\n",
    "        s4 = self.enc4(s3)\n",
    "\n",
    "        b = self.middle(s4)\n",
    "\n",
    "        d4 = self.dec4(b, s4)\n",
    "        d3 = self.dec3(d4, s3)\n",
    "        d2 = self.dec2(d3, s2)\n",
    "        d1 = self.dec1(d2, s1)\n",
    "\n",
    "        return self.final(d1)\n",
    "\n",
    "# Example instantiation\n",
    "net = UNet()\n",
    "net.parameters()"
   ]
  },
  {
   "cell_type": "code",
   "execution_count": null,
   "id": "be3094d9",
   "metadata": {},
   "outputs": [],
   "source": [
    "dataloader = torch.utils.data.DataLoader(raw_training_data)\n",
    "optimizer = torch.optim.Adam(net.parameters())\n",
    "loss_fn = torch.nn.Softmax()\n",
    "for epoch in range(200):\n",
    "    for img, label in dataloader:\n",
    "        optimizer.zero_grad()\n",
    "        pred = net(img)\n",
    "        loss=  loss_fn(pred,5)\n",
    "        #just realized unet is a binary classifier"
   ]
  }
 ],
 "metadata": {
  "kernelspec": {
   "display_name": ".venv",
   "language": "python",
   "name": "python3"
  },
  "language_info": {
   "codemirror_mode": {
    "name": "ipython",
    "version": 3
   },
   "file_extension": ".py",
   "mimetype": "text/x-python",
   "name": "python",
   "nbconvert_exporter": "python",
   "pygments_lexer": "ipython3",
   "version": "3.12.10"
  }
 },
 "nbformat": 4,
 "nbformat_minor": 5
}
